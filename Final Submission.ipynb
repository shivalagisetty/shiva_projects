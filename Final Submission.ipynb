{
 "cells": [
  {
   "cell_type": "code",
   "execution_count": 2,
   "metadata": {},
   "outputs": [],
   "source": [
    "from __future__ import print_function\n",
    "%matplotlib inline\n",
    "import os\n",
    "import warnings\n",
    "import numpy as np\n",
    "import matplotlib.pyplot as plt\n",
    "import matplotlib.image as image\n",
    "import pandas as pd\n",
    "import numpy as np\n",
    "from sklearn.model_selection import train_test_split\n",
    "from sklearn.tree import DecisionTreeClassifier\n",
    "from sklearn.ensemble import RandomForestClassifier\n",
    "from sklearn.linear_model import LogisticRegressionCV\n",
    "from yellowbrick.classifier import ROCAUC\n",
    "from sklearn.metrics import accuracy_score\n",
    "from yellowbrick.model_selection import FeatureImportances\n",
    "import pandas as pd\n",
    "plt.style.use(\"ggplot\")\n",
    "warnings.simplefilter(\"ignore\")\n",
    "#importing requried libraries "
   ]
  },
  {
   "cell_type": "code",
   "execution_count": 3,
   "metadata": {},
   "outputs": [],
   "source": [
    "plt.rcParams['figure.figsize'] = (12,8) #Fixing the plot size"
   ]
  },
  {
   "cell_type": "code",
   "execution_count": 4,
   "metadata": {},
   "outputs": [
    {
     "data": {
      "text/html": [
       "<div>\n",
       "<style scoped>\n",
       "    .dataframe tbody tr th:only-of-type {\n",
       "        vertical-align: middle;\n",
       "    }\n",
       "\n",
       "    .dataframe tbody tr th {\n",
       "        vertical-align: top;\n",
       "    }\n",
       "\n",
       "    .dataframe thead th {\n",
       "        text-align: right;\n",
       "    }\n",
       "</style>\n",
       "<table border=\"1\" class=\"dataframe\">\n",
       "  <thead>\n",
       "    <tr style=\"text-align: right;\">\n",
       "      <th></th>\n",
       "      <th>Loanapp_ID</th>\n",
       "      <th>Sex</th>\n",
       "      <th>Marital_Status</th>\n",
       "      <th>first_name</th>\n",
       "      <th>last_name</th>\n",
       "      <th>email</th>\n",
       "      <th>address</th>\n",
       "      <th>Dependents</th>\n",
       "      <th>Qual_var</th>\n",
       "      <th>SE</th>\n",
       "      <th>App_Income_1</th>\n",
       "      <th>App_Income_2</th>\n",
       "      <th>CPL_Amount</th>\n",
       "      <th>CPL_Term</th>\n",
       "      <th>Credit_His</th>\n",
       "      <th>Prop_Area</th>\n",
       "      <th>INT_ID</th>\n",
       "      <th>Prev_ID</th>\n",
       "      <th>AGT_ID</th>\n",
       "      <th>CPL_Status</th>\n",
       "    </tr>\n",
       "  </thead>\n",
       "  <tbody>\n",
       "    <tr>\n",
       "      <th>0</th>\n",
       "      <td>CPL001002</td>\n",
       "      <td>M</td>\n",
       "      <td>N</td>\n",
       "      <td>Austin</td>\n",
       "      <td>Pennycook</td>\n",
       "      <td>apennycook1@mac.com</td>\n",
       "      <td>007 Miller Road</td>\n",
       "      <td>0</td>\n",
       "      <td>Grad</td>\n",
       "      <td>N</td>\n",
       "      <td>7018.8</td>\n",
       "      <td>0.0</td>\n",
       "      <td>NaN</td>\n",
       "      <td>360.0</td>\n",
       "      <td>1.0</td>\n",
       "      <td>Urban</td>\n",
       "      <td>9694176212</td>\n",
       "      <td>92-247-0058</td>\n",
       "      <td>Mozilla/5.0 (Windows; U; Windows NT 5.1; zh-TW...</td>\n",
       "      <td>Y</td>\n",
       "    </tr>\n",
       "    <tr>\n",
       "      <th>1</th>\n",
       "      <td>CPL001003</td>\n",
       "      <td>M</td>\n",
       "      <td>Y</td>\n",
       "      <td>Mareah</td>\n",
       "      <td>Tomanek</td>\n",
       "      <td>mtomanek2@bloomberg.com</td>\n",
       "      <td>145 Charing Cross Junction</td>\n",
       "      <td>1</td>\n",
       "      <td>Grad</td>\n",
       "      <td>N</td>\n",
       "      <td>5499.6</td>\n",
       "      <td>1809.6</td>\n",
       "      <td>153.6</td>\n",
       "      <td>360.0</td>\n",
       "      <td>1.0</td>\n",
       "      <td>Rural</td>\n",
       "      <td>152387684</td>\n",
       "      <td>36-236-3028</td>\n",
       "      <td>Mozilla/5.0 (Windows NT 5.1; rv:21.0) Gecko/20...</td>\n",
       "      <td>N</td>\n",
       "    </tr>\n",
       "    <tr>\n",
       "      <th>2</th>\n",
       "      <td>CPL001005</td>\n",
       "      <td>M</td>\n",
       "      <td>Y</td>\n",
       "      <td>Myrna</td>\n",
       "      <td>Rosenthaler</td>\n",
       "      <td>mrosenthaler3@dmoz.org</td>\n",
       "      <td>268 Algoma Hill</td>\n",
       "      <td>0</td>\n",
       "      <td>Grad</td>\n",
       "      <td>Y</td>\n",
       "      <td>3600.0</td>\n",
       "      <td>0.0</td>\n",
       "      <td>79.2</td>\n",
       "      <td>360.0</td>\n",
       "      <td>1.0</td>\n",
       "      <td>Urban</td>\n",
       "      <td>6510396556</td>\n",
       "      <td>34-339-0917</td>\n",
       "      <td>Mozilla/5.0 (Windows; U; Windows NT 6.1; cs-CZ...</td>\n",
       "      <td>Y</td>\n",
       "    </tr>\n",
       "    <tr>\n",
       "      <th>3</th>\n",
       "      <td>CPL001006</td>\n",
       "      <td>M</td>\n",
       "      <td>Y</td>\n",
       "      <td>Danyette</td>\n",
       "      <td>Stempe</td>\n",
       "      <td>dstempe4@tumblr.com</td>\n",
       "      <td>571 Stone Corner Park</td>\n",
       "      <td>0</td>\n",
       "      <td>Non Grad</td>\n",
       "      <td>N</td>\n",
       "      <td>3099.6</td>\n",
       "      <td>2829.6</td>\n",
       "      <td>144.0</td>\n",
       "      <td>360.0</td>\n",
       "      <td>1.0</td>\n",
       "      <td>Urban</td>\n",
       "      <td>7141853006</td>\n",
       "      <td>94-098-8902</td>\n",
       "      <td>Mozilla/5.0 (iPhone; U; CPU iPhone OS 4_2_1 li...</td>\n",
       "      <td>Y</td>\n",
       "    </tr>\n",
       "    <tr>\n",
       "      <th>4</th>\n",
       "      <td>CPL001008</td>\n",
       "      <td>M</td>\n",
       "      <td>N</td>\n",
       "      <td>Patten</td>\n",
       "      <td>McCathy</td>\n",
       "      <td>pmccathy5@ted.com</td>\n",
       "      <td>118 Moulton Drive</td>\n",
       "      <td>0</td>\n",
       "      <td>Grad</td>\n",
       "      <td>N</td>\n",
       "      <td>7200.0</td>\n",
       "      <td>0.0</td>\n",
       "      <td>169.2</td>\n",
       "      <td>360.0</td>\n",
       "      <td>1.0</td>\n",
       "      <td>Urban</td>\n",
       "      <td>23293411</td>\n",
       "      <td>38-247-1410</td>\n",
       "      <td>Mozilla/5.0 (Windows NT 6.0; WOW64) AppleWebKi...</td>\n",
       "      <td>Y</td>\n",
       "    </tr>\n",
       "  </tbody>\n",
       "</table>\n",
       "</div>"
      ],
      "text/plain": [
       "  Loanapp_ID Sex Marital_Status first_name    last_name  \\\n",
       "0  CPL001002   M              N     Austin    Pennycook   \n",
       "1  CPL001003   M              Y     Mareah      Tomanek   \n",
       "2  CPL001005   M              Y      Myrna  Rosenthaler   \n",
       "3  CPL001006   M              Y   Danyette       Stempe   \n",
       "4  CPL001008   M              N     Patten      McCathy   \n",
       "\n",
       "                     email                     address Dependents  Qual_var  \\\n",
       "0      apennycook1@mac.com             007 Miller Road          0      Grad   \n",
       "1  mtomanek2@bloomberg.com  145 Charing Cross Junction          1      Grad   \n",
       "2   mrosenthaler3@dmoz.org             268 Algoma Hill          0      Grad   \n",
       "3      dstempe4@tumblr.com       571 Stone Corner Park          0  Non Grad   \n",
       "4        pmccathy5@ted.com           118 Moulton Drive          0      Grad   \n",
       "\n",
       "  SE  App_Income_1  App_Income_2  CPL_Amount  CPL_Term  Credit_His Prop_Area  \\\n",
       "0  N        7018.8           0.0         NaN     360.0         1.0     Urban   \n",
       "1  N        5499.6        1809.6       153.6     360.0         1.0     Rural   \n",
       "2  Y        3600.0           0.0        79.2     360.0         1.0     Urban   \n",
       "3  N        3099.6        2829.6       144.0     360.0         1.0     Urban   \n",
       "4  N        7200.0           0.0       169.2     360.0         1.0     Urban   \n",
       "\n",
       "       INT_ID      Prev_ID                                             AGT_ID  \\\n",
       "0  9694176212  92-247-0058  Mozilla/5.0 (Windows; U; Windows NT 5.1; zh-TW...   \n",
       "1   152387684  36-236-3028  Mozilla/5.0 (Windows NT 5.1; rv:21.0) Gecko/20...   \n",
       "2  6510396556  34-339-0917  Mozilla/5.0 (Windows; U; Windows NT 6.1; cs-CZ...   \n",
       "3  7141853006  94-098-8902  Mozilla/5.0 (iPhone; U; CPU iPhone OS 4_2_1 li...   \n",
       "4    23293411  38-247-1410  Mozilla/5.0 (Windows NT 6.0; WOW64) AppleWebKi...   \n",
       "\n",
       "  CPL_Status  \n",
       "0          Y  \n",
       "1          N  \n",
       "2          Y  \n",
       "3          Y  \n",
       "4          Y  "
      ]
     },
     "execution_count": 4,
     "metadata": {},
     "output_type": "execute_result"
    }
   ],
   "source": [
    "CC_data_train = pd.read_excel(r\"C:\\Users\\Shiva\\Documents\\MY personal\\Projects\\non core projects\\credit card data analyst\\Project - 4 - Train Data.xlsx\")\n",
    "CC_data_train.head() #Loading Data of project 4 - train"
   ]
  },
  {
   "cell_type": "code",
   "execution_count": 5,
   "metadata": {},
   "outputs": [
    {
     "data": {
      "text/html": [
       "<div>\n",
       "<style scoped>\n",
       "    .dataframe tbody tr th:only-of-type {\n",
       "        vertical-align: middle;\n",
       "    }\n",
       "\n",
       "    .dataframe tbody tr th {\n",
       "        vertical-align: top;\n",
       "    }\n",
       "\n",
       "    .dataframe thead th {\n",
       "        text-align: right;\n",
       "    }\n",
       "</style>\n",
       "<table border=\"1\" class=\"dataframe\">\n",
       "  <thead>\n",
       "    <tr style=\"text-align: right;\">\n",
       "      <th></th>\n",
       "      <th>Loanapp_ID</th>\n",
       "      <th>Sex</th>\n",
       "      <th>Marital_Status</th>\n",
       "      <th>first_name</th>\n",
       "      <th>last_name</th>\n",
       "      <th>email</th>\n",
       "      <th>address</th>\n",
       "      <th>Dependents</th>\n",
       "      <th>Qual_var</th>\n",
       "      <th>SE</th>\n",
       "      <th>App_Income_1</th>\n",
       "      <th>App_Income_2</th>\n",
       "      <th>CPL_Amount</th>\n",
       "      <th>CPL_Term</th>\n",
       "      <th>Credit_His</th>\n",
       "      <th>INT_ID</th>\n",
       "      <th>Prev_ID</th>\n",
       "      <th>AGT_ID</th>\n",
       "      <th>Prop_Area</th>\n",
       "    </tr>\n",
       "  </thead>\n",
       "  <tbody>\n",
       "    <tr>\n",
       "      <th>0</th>\n",
       "      <td>CPL001015</td>\n",
       "      <td>M</td>\n",
       "      <td>Y</td>\n",
       "      <td>Dollie</td>\n",
       "      <td>Scafe</td>\n",
       "      <td>dscafe0@is.gd</td>\n",
       "      <td>02 Garrison Pass</td>\n",
       "      <td>0</td>\n",
       "      <td>Grad</td>\n",
       "      <td>N</td>\n",
       "      <td>6864.0</td>\n",
       "      <td>0.0</td>\n",
       "      <td>132.0</td>\n",
       "      <td>360.0</td>\n",
       "      <td>1.0</td>\n",
       "      <td>6869736235</td>\n",
       "      <td>79-489-1539</td>\n",
       "      <td>Mozilla/5.0 (Macintosh; U; Intel Mac OS X 10_6...</td>\n",
       "      <td>Urban</td>\n",
       "    </tr>\n",
       "    <tr>\n",
       "      <th>1</th>\n",
       "      <td>CPL001022</td>\n",
       "      <td>M</td>\n",
       "      <td>Y</td>\n",
       "      <td>Kim</td>\n",
       "      <td>Arne</td>\n",
       "      <td>karne9@infoseek.co.jp</td>\n",
       "      <td>6568 Dwight Point</td>\n",
       "      <td>1</td>\n",
       "      <td>Grad</td>\n",
       "      <td>N</td>\n",
       "      <td>3691.2</td>\n",
       "      <td>1800.0</td>\n",
       "      <td>151.2</td>\n",
       "      <td>360.0</td>\n",
       "      <td>1.0</td>\n",
       "      <td>3383749711</td>\n",
       "      <td>75-757-9174</td>\n",
       "      <td>Mozilla/5.0 (Macintosh; Intel Mac OS X 10_7_2)...</td>\n",
       "      <td>Urban</td>\n",
       "    </tr>\n",
       "    <tr>\n",
       "      <th>2</th>\n",
       "      <td>CPL001031</td>\n",
       "      <td>M</td>\n",
       "      <td>Y</td>\n",
       "      <td>Niccolo</td>\n",
       "      <td>Ramble</td>\n",
       "      <td>nramblef@gov.uk</td>\n",
       "      <td>3504 Lukken Park</td>\n",
       "      <td>2</td>\n",
       "      <td>Grad</td>\n",
       "      <td>N</td>\n",
       "      <td>6000.0</td>\n",
       "      <td>2160.0</td>\n",
       "      <td>249.6</td>\n",
       "      <td>360.0</td>\n",
       "      <td>1.0</td>\n",
       "      <td>7247894032</td>\n",
       "      <td>42-085-4345</td>\n",
       "      <td>Mozilla/5.0 (Windows NT 6.1; WOW64) AppleWebKi...</td>\n",
       "      <td>Urban</td>\n",
       "    </tr>\n",
       "    <tr>\n",
       "      <th>3</th>\n",
       "      <td>CPL001035</td>\n",
       "      <td>M</td>\n",
       "      <td>Y</td>\n",
       "      <td>Rabbi</td>\n",
       "      <td>Haig</td>\n",
       "      <td>rhaigg@tiny.cc</td>\n",
       "      <td>1334 Florence Way</td>\n",
       "      <td>2</td>\n",
       "      <td>Grad</td>\n",
       "      <td>N</td>\n",
       "      <td>2808.0</td>\n",
       "      <td>3055.2</td>\n",
       "      <td>120.0</td>\n",
       "      <td>360.0</td>\n",
       "      <td>NaN</td>\n",
       "      <td>3240492342</td>\n",
       "      <td>10-813-9695</td>\n",
       "      <td>Mozilla/5.0 (X11; Linux i686) AppleWebKit/534....</td>\n",
       "      <td>Urban</td>\n",
       "    </tr>\n",
       "    <tr>\n",
       "      <th>4</th>\n",
       "      <td>CPL001051</td>\n",
       "      <td>M</td>\n",
       "      <td>N</td>\n",
       "      <td>Gracie</td>\n",
       "      <td>Winear</td>\n",
       "      <td>gwinearj@devhub.com</td>\n",
       "      <td>9800 Ridge Oak Crossing</td>\n",
       "      <td>0</td>\n",
       "      <td>Non Grad</td>\n",
       "      <td>N</td>\n",
       "      <td>3931.2</td>\n",
       "      <td>0.0</td>\n",
       "      <td>93.6</td>\n",
       "      <td>360.0</td>\n",
       "      <td>1.0</td>\n",
       "      <td>1670564037</td>\n",
       "      <td>20-195-4948</td>\n",
       "      <td>Mozilla/5.0 (Windows NT 6.0) AppleWebKit/534.2...</td>\n",
       "      <td>Urban</td>\n",
       "    </tr>\n",
       "  </tbody>\n",
       "</table>\n",
       "</div>"
      ],
      "text/plain": [
       "  Loanapp_ID Sex Marital_Status first_name last_name                  email  \\\n",
       "0  CPL001015   M              Y     Dollie     Scafe          dscafe0@is.gd   \n",
       "1  CPL001022   M              Y        Kim      Arne  karne9@infoseek.co.jp   \n",
       "2  CPL001031   M              Y    Niccolo    Ramble        nramblef@gov.uk   \n",
       "3  CPL001035   M              Y      Rabbi      Haig         rhaigg@tiny.cc   \n",
       "4  CPL001051   M              N     Gracie    Winear    gwinearj@devhub.com   \n",
       "\n",
       "                   address Dependents  Qual_var SE  App_Income_1  \\\n",
       "0         02 Garrison Pass          0      Grad  N        6864.0   \n",
       "1        6568 Dwight Point          1      Grad  N        3691.2   \n",
       "2         3504 Lukken Park          2      Grad  N        6000.0   \n",
       "3        1334 Florence Way          2      Grad  N        2808.0   \n",
       "4  9800 Ridge Oak Crossing          0  Non Grad  N        3931.2   \n",
       "\n",
       "   App_Income_2  CPL_Amount  CPL_Term  Credit_His      INT_ID      Prev_ID  \\\n",
       "0           0.0       132.0     360.0         1.0  6869736235  79-489-1539   \n",
       "1        1800.0       151.2     360.0         1.0  3383749711  75-757-9174   \n",
       "2        2160.0       249.6     360.0         1.0  7247894032  42-085-4345   \n",
       "3        3055.2       120.0     360.0         NaN  3240492342  10-813-9695   \n",
       "4           0.0        93.6     360.0         1.0  1670564037  20-195-4948   \n",
       "\n",
       "                                              AGT_ID Prop_Area  \n",
       "0  Mozilla/5.0 (Macintosh; U; Intel Mac OS X 10_6...     Urban  \n",
       "1  Mozilla/5.0 (Macintosh; Intel Mac OS X 10_7_2)...     Urban  \n",
       "2  Mozilla/5.0 (Windows NT 6.1; WOW64) AppleWebKi...     Urban  \n",
       "3  Mozilla/5.0 (X11; Linux i686) AppleWebKit/534....     Urban  \n",
       "4  Mozilla/5.0 (Windows NT 6.0) AppleWebKit/534.2...     Urban  "
      ]
     },
     "execution_count": 5,
     "metadata": {},
     "output_type": "execute_result"
    }
   ],
   "source": [
    "CC_data_test = pd.read_excel(r\"C:\\Users\\Shiva\\Documents\\MY personal\\Projects\\non core projects\\credit card data analyst\\Project - 4 - Test Data.xlsx\")\n",
    "CC_data_test.head() #loading data of project-4 test"
   ]
  },
  {
   "cell_type": "code",
   "execution_count": 6,
   "metadata": {},
   "outputs": [
    {
     "data": {
      "text/html": [
       "<div>\n",
       "<style scoped>\n",
       "    .dataframe tbody tr th:only-of-type {\n",
       "        vertical-align: middle;\n",
       "    }\n",
       "\n",
       "    .dataframe tbody tr th {\n",
       "        vertical-align: top;\n",
       "    }\n",
       "\n",
       "    .dataframe thead th {\n",
       "        text-align: right;\n",
       "    }\n",
       "</style>\n",
       "<table border=\"1\" class=\"dataframe\">\n",
       "  <thead>\n",
       "    <tr style=\"text-align: right;\">\n",
       "      <th></th>\n",
       "      <th>Dependents</th>\n",
       "      <th>Qual_var</th>\n",
       "      <th>SE</th>\n",
       "      <th>App_Income_1</th>\n",
       "      <th>App_Income_2</th>\n",
       "      <th>Credit_His</th>\n",
       "      <th>CPL_Status</th>\n",
       "      <th>Prop_Area</th>\n",
       "      <th>CPL_Amount</th>\n",
       "      <th>CPL_Term</th>\n",
       "    </tr>\n",
       "  </thead>\n",
       "  <tbody>\n",
       "    <tr>\n",
       "      <th>0</th>\n",
       "      <td>0</td>\n",
       "      <td>Grad</td>\n",
       "      <td>N</td>\n",
       "      <td>7018.8</td>\n",
       "      <td>0.0</td>\n",
       "      <td>1.0</td>\n",
       "      <td>Y</td>\n",
       "      <td>Urban</td>\n",
       "      <td>NaN</td>\n",
       "      <td>360.0</td>\n",
       "    </tr>\n",
       "    <tr>\n",
       "      <th>1</th>\n",
       "      <td>1</td>\n",
       "      <td>Grad</td>\n",
       "      <td>N</td>\n",
       "      <td>5499.6</td>\n",
       "      <td>1809.6</td>\n",
       "      <td>1.0</td>\n",
       "      <td>N</td>\n",
       "      <td>Rural</td>\n",
       "      <td>153.6</td>\n",
       "      <td>360.0</td>\n",
       "    </tr>\n",
       "    <tr>\n",
       "      <th>2</th>\n",
       "      <td>0</td>\n",
       "      <td>Grad</td>\n",
       "      <td>Y</td>\n",
       "      <td>3600.0</td>\n",
       "      <td>0.0</td>\n",
       "      <td>1.0</td>\n",
       "      <td>Y</td>\n",
       "      <td>Urban</td>\n",
       "      <td>79.2</td>\n",
       "      <td>360.0</td>\n",
       "    </tr>\n",
       "    <tr>\n",
       "      <th>3</th>\n",
       "      <td>0</td>\n",
       "      <td>Non Grad</td>\n",
       "      <td>N</td>\n",
       "      <td>3099.6</td>\n",
       "      <td>2829.6</td>\n",
       "      <td>1.0</td>\n",
       "      <td>Y</td>\n",
       "      <td>Urban</td>\n",
       "      <td>144.0</td>\n",
       "      <td>360.0</td>\n",
       "    </tr>\n",
       "    <tr>\n",
       "      <th>4</th>\n",
       "      <td>0</td>\n",
       "      <td>Grad</td>\n",
       "      <td>N</td>\n",
       "      <td>7200.0</td>\n",
       "      <td>0.0</td>\n",
       "      <td>1.0</td>\n",
       "      <td>Y</td>\n",
       "      <td>Urban</td>\n",
       "      <td>169.2</td>\n",
       "      <td>360.0</td>\n",
       "    </tr>\n",
       "  </tbody>\n",
       "</table>\n",
       "</div>"
      ],
      "text/plain": [
       "  Dependents  Qual_var SE  App_Income_1  App_Income_2  Credit_His CPL_Status  \\\n",
       "0          0      Grad  N        7018.8           0.0         1.0          Y   \n",
       "1          1      Grad  N        5499.6        1809.6         1.0          N   \n",
       "2          0      Grad  Y        3600.0           0.0         1.0          Y   \n",
       "3          0  Non Grad  N        3099.6        2829.6         1.0          Y   \n",
       "4          0      Grad  N        7200.0           0.0         1.0          Y   \n",
       "\n",
       "  Prop_Area  CPL_Amount  CPL_Term  \n",
       "0     Urban         NaN     360.0  \n",
       "1     Rural       153.6     360.0  \n",
       "2     Urban        79.2     360.0  \n",
       "3     Urban       144.0     360.0  \n",
       "4     Urban       169.2     360.0  "
      ]
     },
     "execution_count": 6,
     "metadata": {},
     "output_type": "execute_result"
    }
   ],
   "source": [
    "Train_data = CC_data_train[[\"Dependents\",\"Qual_var\",\"SE\",\"App_Income_1\",\"App_Income_2\",\"Credit_His\",\"CPL_Status\",\"Prop_Area\",\"CPL_Amount\",\"CPL_Term\"]]\n",
    "Train_data.head() #importing values which are used in decision making "
   ]
  },
  {
   "cell_type": "code",
   "execution_count": 7,
   "metadata": {},
   "outputs": [
    {
     "name": "stdout",
     "output_type": "stream",
     "text": [
      "Index(['Dependents', 'SE', 'Credit_His', 'CPL_Amount', 'CPL_Term'], dtype='object')\n"
     ]
    }
   ],
   "source": [
    "print(Train_data.columns[Train_data.isnull().any()]) \n",
    "#checking for null vaules "
   ]
  },
  {
   "cell_type": "code",
   "execution_count": 8,
   "metadata": {},
   "outputs": [],
   "source": [
    "Train_data['Credit_His'] = Train_data['Credit_His'].fillna(0)\n",
    "Train_data['Dependents'] = Train_data['Dependents'].fillna(2)\n",
    "Train_data['SE'] = Train_data['SE'].fillna('Y')\n",
    "Train_data['CPL_Amount'] = Train_data['CPL_Amount'].fillna(Train_data['CPL_Amount'].median())\n",
    "Train_data['CPL_Term'] = Train_data['CPL_Term'].fillna(Train_data['CPL_Term'].mean()) \n",
    "#filling the null values "
   ]
  },
  {
   "cell_type": "code",
   "execution_count": 9,
   "metadata": {},
   "outputs": [
    {
     "data": {
      "image/png": "[encoded data removed]",
      "text/plain": [
       "<Figure size 864x576 with 1 Axes>"
      ]
     },
     "metadata": {},
     "output_type": "display_data"
    }
   ],
   "source": [
    "pd.crosstab(Train_data.Dependents,Train_data.CPL_Status).plot(kind='bar')\n",
    "plt.title('CPL_Status Frequency on Applicant Dependants')\n",
    "plt.xlabel('Applicant Dependants')\n",
    "plt.ylabel('CPL_Status Turnover')\n",
    "plt.show() #plotting the frequency of CPL_ststus with dependants "
   ]
  },
  {
   "cell_type": "code",
   "execution_count": 10,
   "metadata": {
    "scrolled": false
   },
   "outputs": [
    {
     "data": {
      "image/png": "[encoded data removed]",
      "text/plain": [
       "<Figure size 864x576 with 1 Axes>"
      ]
     },
     "metadata": {},
     "output_type": "display_data"
    }
   ],
   "source": [
    "pd.crosstab(Train_data.SE,Train_data.CPL_Status).plot(kind='bar')\n",
    "plt.title('CPL_Status Frequency on Employment Type')\n",
    "plt.xlabel('Salary')\n",
    "plt.ylabel('Frequency of CPL_Status')\n",
    "plt.show() #plotting the frequency of CPL_ststus with SE"
   ]
  },
  {
   "cell_type": "code",
   "execution_count": 11,
   "metadata": {},
   "outputs": [
    {
     "data": {
      "text/html": [
       "<div>\n",
       "<style scoped>\n",
       "    .dataframe tbody tr th:only-of-type {\n",
       "        vertical-align: middle;\n",
       "    }\n",
       "\n",
       "    .dataframe tbody tr th {\n",
       "        vertical-align: top;\n",
       "    }\n",
       "\n",
       "    .dataframe thead th {\n",
       "        text-align: right;\n",
       "    }\n",
       "</style>\n",
       "<table border=\"1\" class=\"dataframe\">\n",
       "  <thead>\n",
       "    <tr style=\"text-align: right;\">\n",
       "      <th></th>\n",
       "      <th>Dependents</th>\n",
       "      <th>Qual_var</th>\n",
       "      <th>SE</th>\n",
       "      <th>App_Income_1</th>\n",
       "      <th>App_Income_2</th>\n",
       "      <th>Credit_His</th>\n",
       "      <th>CPL_Status</th>\n",
       "      <th>Prop_Area</th>\n",
       "      <th>CPL_Amount</th>\n",
       "      <th>CPL_Term</th>\n",
       "    </tr>\n",
       "  </thead>\n",
       "  <tbody>\n",
       "    <tr>\n",
       "      <th>0</th>\n",
       "      <td>0</td>\n",
       "      <td>0</td>\n",
       "      <td>0</td>\n",
       "      <td>7018.8</td>\n",
       "      <td>0.0</td>\n",
       "      <td>1.0</td>\n",
       "      <td>1</td>\n",
       "      <td>2</td>\n",
       "      <td>153.6</td>\n",
       "      <td>360.0</td>\n",
       "    </tr>\n",
       "    <tr>\n",
       "      <th>1</th>\n",
       "      <td>1</td>\n",
       "      <td>0</td>\n",
       "      <td>0</td>\n",
       "      <td>5499.6</td>\n",
       "      <td>1809.6</td>\n",
       "      <td>1.0</td>\n",
       "      <td>0</td>\n",
       "      <td>0</td>\n",
       "      <td>153.6</td>\n",
       "      <td>360.0</td>\n",
       "    </tr>\n",
       "    <tr>\n",
       "      <th>2</th>\n",
       "      <td>0</td>\n",
       "      <td>0</td>\n",
       "      <td>1</td>\n",
       "      <td>3600.0</td>\n",
       "      <td>0.0</td>\n",
       "      <td>1.0</td>\n",
       "      <td>1</td>\n",
       "      <td>2</td>\n",
       "      <td>79.2</td>\n",
       "      <td>360.0</td>\n",
       "    </tr>\n",
       "    <tr>\n",
       "      <th>3</th>\n",
       "      <td>0</td>\n",
       "      <td>1</td>\n",
       "      <td>0</td>\n",
       "      <td>3099.6</td>\n",
       "      <td>2829.6</td>\n",
       "      <td>1.0</td>\n",
       "      <td>1</td>\n",
       "      <td>2</td>\n",
       "      <td>144.0</td>\n",
       "      <td>360.0</td>\n",
       "    </tr>\n",
       "    <tr>\n",
       "      <th>4</th>\n",
       "      <td>0</td>\n",
       "      <td>0</td>\n",
       "      <td>0</td>\n",
       "      <td>7200.0</td>\n",
       "      <td>0.0</td>\n",
       "      <td>1.0</td>\n",
       "      <td>1</td>\n",
       "      <td>2</td>\n",
       "      <td>169.2</td>\n",
       "      <td>360.0</td>\n",
       "    </tr>\n",
       "  </tbody>\n",
       "</table>\n",
       "</div>"
      ],
      "text/plain": [
       "   Dependents  Qual_var  SE  App_Income_1  App_Income_2  Credit_His  \\\n",
       "0           0         0   0        7018.8           0.0         1.0   \n",
       "1           1         0   0        5499.6        1809.6         1.0   \n",
       "2           0         0   1        3600.0           0.0         1.0   \n",
       "3           0         1   0        3099.6        2829.6         1.0   \n",
       "4           0         0   0        7200.0           0.0         1.0   \n",
       "\n",
       "   CPL_Status  Prop_Area  CPL_Amount  CPL_Term  \n",
       "0           1          2       153.6     360.0  \n",
       "1           0          0       153.6     360.0  \n",
       "2           1          2        79.2     360.0  \n",
       "3           1          2       144.0     360.0  \n",
       "4           1          2       169.2     360.0  "
      ]
     },
     "execution_count": 11,
     "metadata": {},
     "output_type": "execute_result"
    }
   ],
   "source": [
    "#creating dummie varaibles for string inputs\n",
    "columns =  Train_data[[\"Dependents\",\"Qual_var\",\"SE\",\"CPL_Status\",\"Prop_Area\"]]  \n",
    "\n",
    "def Cat_conversion(cols):\n",
    "    for i in cols:\n",
    "        Train_data[i]=Train_data[i].astype(\"category\").cat.codes\n",
    "Cat_conversion(columns)\n",
    "Train_data.head()"
   ]
  },
  {
   "cell_type": "code",
   "execution_count": 12,
   "metadata": {},
   "outputs": [],
   "source": [
    "Train_data_train,Train_data_test=train_test_split(Train_data,test_size=0.2,random_state=1) \n",
    "#dividing the test,train volumes"
   ]
  },
  {
   "cell_type": "code",
   "execution_count": 13,
   "metadata": {},
   "outputs": [],
   "source": [
    "x_train= Train_data_train[[\"Dependents\",\"Qual_var\",\"SE\",\"App_Income_1\",\"App_Income_2\",\"Credit_His\",\"Prop_Area\",'CPL_Amount']]\n",
    "y_train= Train_data_train[\"CPL_Status\"]\n",
    "\n",
    "x_test= Train_data_test[[\"Dependents\",\"Qual_var\",\"SE\",\"App_Income_1\",\"App_Income_2\",\"Credit_His\",\"Prop_Area\",'CPL_Amount']]\n",
    "y_test= Train_data_test[\"CPL_Status\"]\n",
    "\n",
    "#Dividing the inputs variables and output variables "
   ]
  },
  {
   "cell_type": "code",
   "execution_count": 14,
   "metadata": {},
   "outputs": [],
   "source": [
    "dtree=DecisionTreeClassifier(criterion='entropy',random_state=1\n",
    "                             ,min_samples_leaf=15\n",
    "                            ,min_samples_split=15).fit(x_train,y_train) \n",
    "#Decision Tree(Entropy) Syntax"
   ]
  },
  {
   "cell_type": "code",
   "execution_count": 15,
   "metadata": {},
   "outputs": [],
   "source": [
    "dtree_gini=DecisionTreeClassifier(criterion='gini',random_state=1\n",
    "                             ,min_samples_leaf=15\n",
    "                            ,min_samples_split=15).fit(x_train,y_train)\n",
    "#Decision Tree(Gini) Syntax"
   ]
  },
  {
   "cell_type": "code",
   "execution_count": 16,
   "metadata": {},
   "outputs": [
    {
     "data": {
      "text/plain": [
       "array([1, 0, 1, 1, 1, 0, 1, 1, 1, 0, 1, 1, 1, 1, 1, 1, 1, 1, 1, 1, 1, 1,\n",
       "       1, 1, 1, 1, 1, 1, 1, 1, 1, 1, 1, 1, 1, 1, 1, 1, 1, 1, 1, 1, 0, 1,\n",
       "       1, 1, 1, 0, 1, 1, 1, 1, 1, 1, 1, 0, 1, 0, 1, 1, 1, 1, 0, 0, 0, 1,\n",
       "       1, 1, 1, 1, 1, 1, 1, 0, 1, 1, 1, 1, 0, 0, 0, 1, 1, 0, 1, 1, 1, 1,\n",
       "       1, 1, 0, 1, 1, 1, 1, 1, 1, 1, 1, 0, 1, 1, 1, 1, 0, 1, 1, 1, 0, 1,\n",
       "       1, 1, 1, 1, 0, 1, 1, 1, 1, 1, 1, 0, 1], dtype=int8)"
      ]
     },
     "execution_count": 16,
     "metadata": {},
     "output_type": "execute_result"
    }
   ],
   "source": [
    "y_pred_entropy=dtree.predict(x_test) #predicting the outputs \n",
    "y_pred_entropy  "
   ]
  },
  {
   "cell_type": "code",
   "execution_count": 17,
   "metadata": {},
   "outputs": [
    {
     "name": "stdout",
     "output_type": "stream",
     "text": [
      " DecisionTree_Entropy Accuracy: 78.86\n"
     ]
    }
   ],
   "source": [
    "Score_entropy=accuracy_score(y_test,y_pred_entropy) #comparision of outputs \n",
    "print(\" DecisionTree_Entropy Accuracy: %0.2f\" % (round(Score_entropy*100,2)))"
   ]
  },
  {
   "cell_type": "code",
   "execution_count": 18,
   "metadata": {},
   "outputs": [
    {
     "data": {
      "text/plain": [
       "array([1, 0, 1, 1, 1, 0, 1, 1, 1, 0, 1, 1, 1, 1, 1, 1, 1, 1, 1, 1, 1, 1,\n",
       "       1, 1, 1, 1, 1, 1, 1, 1, 1, 1, 1, 1, 1, 1, 1, 1, 1, 1, 1, 1, 0, 1,\n",
       "       1, 1, 1, 0, 1, 1, 1, 1, 1, 1, 1, 0, 1, 0, 1, 1, 1, 1, 0, 0, 0, 1,\n",
       "       1, 1, 1, 1, 1, 1, 1, 0, 1, 1, 1, 1, 0, 0, 0, 1, 1, 0, 1, 1, 1, 1,\n",
       "       1, 1, 0, 1, 1, 1, 1, 1, 1, 1, 1, 0, 1, 1, 1, 1, 0, 1, 1, 1, 0, 1,\n",
       "       1, 1, 1, 1, 0, 1, 1, 1, 1, 1, 1, 0, 1], dtype=int8)"
      ]
     },
     "execution_count": 18,
     "metadata": {},
     "output_type": "execute_result"
    }
   ],
   "source": [
    "y_pred_gini=dtree_gini.predict(x_test) #predicting the outputs\n",
    "y_pred_gini"
   ]
  },
  {
   "cell_type": "code",
   "execution_count": 19,
   "metadata": {},
   "outputs": [
    {
     "name": "stdout",
     "output_type": "stream",
     "text": [
      "DecisionTree_Gini Accuracy: 78.86\n"
     ]
    }
   ],
   "source": [
    "Score_gini=accuracy_score(y_test,y_pred_gini) #comparision of outputs\n",
    "print(\"DecisionTree_Gini Accuracy: %0.2f\" % (round(Score_gini*100,2)))"
   ]
  },
  {
   "cell_type": "code",
   "execution_count": 20,
   "metadata": {},
   "outputs": [],
   "source": [
    "rforest_entropy = RandomForestClassifier(random_state=1,\n",
    "                                       criterion='entropy',\n",
    "                                       bootstrap=\"False\",\n",
    "                                       n_estimators=200,\n",
    "                                       max_depth=14,\n",
    "                                       min_samples_split=5,\n",
    "                                       min_samples_leaf=5,\n",
    "                                       n_jobs=-1,\n",
    "                                      verbose=False).fit(x_train, y_train)  \n",
    "#Random forest(Entropy) Syntax"
   ]
  },
  {
   "cell_type": "code",
   "execution_count": 21,
   "metadata": {},
   "outputs": [
    {
     "data": {
      "text/plain": [
       "array([0, 1, 1, 1, 1, 0, 1, 1, 1, 0, 1, 1, 1, 1, 1, 1, 1, 1, 1, 1, 1, 1,\n",
       "       1, 1, 1, 1, 1, 1, 1, 1, 1, 1, 1, 1, 1, 1, 1, 1, 1, 1, 1, 1, 0, 1,\n",
       "       1, 1, 1, 0, 1, 1, 1, 1, 1, 1, 1, 0, 1, 0, 1, 1, 1, 1, 1, 1, 0, 1,\n",
       "       1, 1, 1, 1, 1, 1, 1, 0, 1, 1, 1, 1, 0, 0, 0, 1, 1, 1, 1, 1, 1, 1,\n",
       "       1, 1, 0, 1, 1, 1, 1, 1, 1, 1, 1, 0, 1, 1, 1, 1, 0, 1, 1, 1, 0, 1,\n",
       "       1, 1, 1, 1, 0, 1, 1, 1, 1, 1, 1, 0, 1], dtype=int8)"
      ]
     },
     "execution_count": 21,
     "metadata": {},
     "output_type": "execute_result"
    }
   ],
   "source": [
    "y_pred_entropy=rforest_entropy.predict(x_test) #predicting the outputs\n",
    "y_pred_entropy"
   ]
  },
  {
   "cell_type": "code",
   "execution_count": 22,
   "metadata": {},
   "outputs": [
    {
     "name": "stdout",
     "output_type": "stream",
     "text": [
      " RandomForest_Entropy Accuracy: 79.67\n"
     ]
    }
   ],
   "source": [
    "Score_entropy=accuracy_score(y_test,y_pred_entropy) #comparision of outputs\n",
    "print(\" RandomForest_Entropy Accuracy: %0.2f\" % (round(Score_entropy*100,2)))"
   ]
  },
  {
   "cell_type": "code",
   "execution_count": 23,
   "metadata": {},
   "outputs": [],
   "source": [
    "rforest_gini = RandomForestClassifier(random_state=1,\n",
    "                                       criterion='gini',\n",
    "                                       bootstrap=\"False\",\n",
    "                                       n_estimators=200,\n",
    "                                       max_depth=14,\n",
    "                                       min_samples_split=5,\n",
    "                                       min_samples_leaf=5,\n",
    "                                       n_jobs=-1,\n",
    "                                      verbose=False).fit(x_train, y_train) \n",
    "#Random forest(Gini) Syntax"
   ]
  },
  {
   "cell_type": "code",
   "execution_count": 24,
   "metadata": {},
   "outputs": [
    {
     "data": {
      "text/plain": [
       "array([0, 1, 1, 1, 1, 0, 1, 1, 1, 0, 1, 1, 1, 1, 1, 1, 1, 1, 1, 1, 1, 1,\n",
       "       1, 1, 1, 1, 1, 1, 1, 1, 1, 1, 1, 1, 1, 1, 1, 1, 1, 1, 1, 1, 0, 1,\n",
       "       1, 1, 1, 0, 1, 1, 1, 1, 1, 1, 1, 0, 1, 0, 1, 1, 1, 1, 1, 1, 0, 1,\n",
       "       1, 1, 1, 1, 1, 1, 1, 0, 1, 1, 1, 1, 0, 0, 0, 1, 1, 1, 1, 1, 1, 1,\n",
       "       1, 1, 0, 1, 1, 1, 1, 1, 1, 1, 1, 0, 1, 1, 1, 1, 0, 1, 1, 1, 0, 1,\n",
       "       1, 1, 1, 1, 0, 1, 1, 1, 1, 1, 1, 0, 1], dtype=int8)"
      ]
     },
     "execution_count": 24,
     "metadata": {},
     "output_type": "execute_result"
    }
   ],
   "source": [
    "y_pred_gini=rforest_entropy.predict(x_test) #predicting the outputs\n",
    "y_pred_entropy"
   ]
  },
  {
   "cell_type": "code",
   "execution_count": 25,
   "metadata": {},
   "outputs": [
    {
     "name": "stdout",
     "output_type": "stream",
     "text": [
      "Accuracy: 79.67\n"
     ]
    }
   ],
   "source": [
    "Score_gini=accuracy_score(y_test,y_pred_gini) #comparision of outputs\n",
    "print(\"Accuracy: %0.2f\" % (round(Score_gini*100,2)))"
   ]
  },
  {
   "cell_type": "code",
   "execution_count": 26,
   "metadata": {},
   "outputs": [
    {
     "name": "stdout",
     "output_type": "stream",
     "text": [
      "Logistic Regression Accuracy: 79.00\n"
     ]
    },
    {
     "data": {
      "image/png": "[encoded data removed]",
      "text/plain": [
       "<Figure size 864x576 with 1 Axes>"
      ]
     },
     "metadata": {},
     "output_type": "display_data"
    }
   ],
   "source": [
    "#LogisticRegression Syntax and visualization\n",
    "logit = LogisticRegressionCV(random_state=1, n_jobs=-1,max_iter=500,\n",
    "                             cv=10)\n",
    "\n",
    "lr = logit.fit(x_train, y_train)\n",
    "\n",
    "print('Logistic Regression Accuracy: {:.2f}'.format(round(accuracy_score(y_test, lr.predict(x_test))*100)))\n",
    "\n",
    "visualizer = ROCAUC(lr, classes=[\"Y\", \"N\"])\n",
    "\n",
    "\n",
    "visualizer.fit(x_train, y_train)        # Fit the training data to the visualizer\n",
    "visualizer.score(x_test, y_test)        # Evaluate the model on the test data\n",
    "visualizer.poof();"
   ]
  },
  {
   "cell_type": "code",
   "execution_count": 27,
   "metadata": {},
   "outputs": [
    {
     "data": {
      "image/png": "[encoded data removed]",
      "text/plain": [
       "<Figure size 864x576 with 1 Axes>"
      ]
     },
     "metadata": {},
     "output_type": "display_data"
    }
   ],
   "source": [
    "plt.rcParams['figure.figsize'] = (12,8)\n",
    "plt.style.use(\"ggplot\")\n",
    "\n",
    "rf = RandomForestClassifier(bootstrap='True', class_weight=None, criterion='gini',\n",
    "            max_depth=3, max_features='auto', max_leaf_nodes=None,\n",
    "            min_impurity_decrease=0.0, min_impurity_split=None,\n",
    "            min_samples_leaf=1, min_samples_split=2,\n",
    "            min_weight_fraction_leaf=0.0, n_estimators=100, n_jobs=-1,\n",
    "            oob_score=False, random_state=1, verbose=False,\n",
    "            warm_start=False)\n",
    "\n",
    "viz = FeatureImportances(rf)\n",
    "viz.fit(x_train, y_train)\n",
    "viz.show();   \n",
    "#plot to show the parameter which is highly impacting the decision for RandomForest"
   ]
  },
  {
   "cell_type": "code",
   "execution_count": 28,
   "metadata": {},
   "outputs": [
    {
     "data": {
      "image/png": "[encoded data removed]",
      "text/plain": [
       "<Figure size 864x576 with 1 Axes>"
      ]
     },
     "metadata": {},
     "output_type": "display_data"
    }
   ],
   "source": [
    "plt.rcParams['figure.figsize'] = (12,8)\n",
    "plt.style.use(\"ggplot\")\n",
    "\n",
    "dt = DecisionTreeClassifier(criterion='entropy',random_state=1\n",
    "                             ,min_samples_leaf=15\n",
    "                            ,min_samples_split=15)\n",
    "\n",
    "viz = FeatureImportances(dt)\n",
    "viz.fit(x_train, y_train)\n",
    "viz.show();   \n",
    "#plot to show the parameter which is highly impacting the decision for Decision Tree"
   ]
  },
  {
   "cell_type": "markdown",
   "metadata": {},
   "source": [
    "#  Code for the decision of approval and denial of Credit card\n",
    "\n",
    "\n"
   ]
  },
  {
   "cell_type": "code",
   "execution_count": 29,
   "metadata": {},
   "outputs": [
    {
     "data": {
      "text/html": [
       "<div>\n",
       "<style scoped>\n",
       "    .dataframe tbody tr th:only-of-type {\n",
       "        vertical-align: middle;\n",
       "    }\n",
       "\n",
       "    .dataframe tbody tr th {\n",
       "        vertical-align: top;\n",
       "    }\n",
       "\n",
       "    .dataframe thead th {\n",
       "        text-align: right;\n",
       "    }\n",
       "</style>\n",
       "<table border=\"1\" class=\"dataframe\">\n",
       "  <thead>\n",
       "    <tr style=\"text-align: right;\">\n",
       "      <th></th>\n",
       "      <th>Dependents</th>\n",
       "      <th>Qual_var</th>\n",
       "      <th>SE</th>\n",
       "      <th>App_Income_1</th>\n",
       "      <th>App_Income_2</th>\n",
       "      <th>Credit_His</th>\n",
       "      <th>Prop_Area</th>\n",
       "      <th>CPL_Amount</th>\n",
       "      <th>CPL_Term</th>\n",
       "    </tr>\n",
       "  </thead>\n",
       "  <tbody>\n",
       "    <tr>\n",
       "      <th>0</th>\n",
       "      <td>0</td>\n",
       "      <td>Grad</td>\n",
       "      <td>N</td>\n",
       "      <td>6864.0</td>\n",
       "      <td>0.0</td>\n",
       "      <td>1.0</td>\n",
       "      <td>Urban</td>\n",
       "      <td>132.0</td>\n",
       "      <td>360.0</td>\n",
       "    </tr>\n",
       "    <tr>\n",
       "      <th>1</th>\n",
       "      <td>1</td>\n",
       "      <td>Grad</td>\n",
       "      <td>N</td>\n",
       "      <td>3691.2</td>\n",
       "      <td>1800.0</td>\n",
       "      <td>1.0</td>\n",
       "      <td>Urban</td>\n",
       "      <td>151.2</td>\n",
       "      <td>360.0</td>\n",
       "    </tr>\n",
       "    <tr>\n",
       "      <th>2</th>\n",
       "      <td>2</td>\n",
       "      <td>Grad</td>\n",
       "      <td>N</td>\n",
       "      <td>6000.0</td>\n",
       "      <td>2160.0</td>\n",
       "      <td>1.0</td>\n",
       "      <td>Urban</td>\n",
       "      <td>249.6</td>\n",
       "      <td>360.0</td>\n",
       "    </tr>\n",
       "    <tr>\n",
       "      <th>3</th>\n",
       "      <td>2</td>\n",
       "      <td>Grad</td>\n",
       "      <td>N</td>\n",
       "      <td>2808.0</td>\n",
       "      <td>3055.2</td>\n",
       "      <td>NaN</td>\n",
       "      <td>Urban</td>\n",
       "      <td>120.0</td>\n",
       "      <td>360.0</td>\n",
       "    </tr>\n",
       "    <tr>\n",
       "      <th>4</th>\n",
       "      <td>0</td>\n",
       "      <td>Non Grad</td>\n",
       "      <td>N</td>\n",
       "      <td>3931.2</td>\n",
       "      <td>0.0</td>\n",
       "      <td>1.0</td>\n",
       "      <td>Urban</td>\n",
       "      <td>93.6</td>\n",
       "      <td>360.0</td>\n",
       "    </tr>\n",
       "  </tbody>\n",
       "</table>\n",
       "</div>"
      ],
      "text/plain": [
       "  Dependents  Qual_var SE  App_Income_1  App_Income_2  Credit_His Prop_Area  \\\n",
       "0          0      Grad  N        6864.0           0.0         1.0     Urban   \n",
       "1          1      Grad  N        3691.2        1800.0         1.0     Urban   \n",
       "2          2      Grad  N        6000.0        2160.0         1.0     Urban   \n",
       "3          2      Grad  N        2808.0        3055.2         NaN     Urban   \n",
       "4          0  Non Grad  N        3931.2           0.0         1.0     Urban   \n",
       "\n",
       "   CPL_Amount  CPL_Term  \n",
       "0       132.0     360.0  \n",
       "1       151.2     360.0  \n",
       "2       249.6     360.0  \n",
       "3       120.0     360.0  \n",
       "4        93.6     360.0  "
      ]
     },
     "execution_count": 29,
     "metadata": {},
     "output_type": "execute_result"
    }
   ],
   "source": [
    "Test_data = CC_data_test[[\"Dependents\",\"Qual_var\",\"SE\",\"App_Income_1\",\"App_Income_2\",\"Credit_His\",\"Prop_Area\",\"CPL_Amount\",\"CPL_Term\"]]\n",
    "Test_data.head() #loding the data for decision process"
   ]
  },
  {
   "cell_type": "code",
   "execution_count": 30,
   "metadata": {},
   "outputs": [
    {
     "name": "stdout",
     "output_type": "stream",
     "text": [
      "Index(['Dependents', 'SE', 'Credit_His', 'CPL_Term'], dtype='object')\n"
     ]
    }
   ],
   "source": [
    "print(Test_data.columns[Test_data.isnull().any()]) \n",
    "#checking for the null values \n"
   ]
  },
  {
   "cell_type": "code",
   "execution_count": 31,
   "metadata": {},
   "outputs": [],
   "source": [
    "Test_data['Credit_His'] = Test_data['Credit_His'].fillna(0)\n",
    "Test_data['CPL_Term'] = Test_data['CPL_Term'].fillna(method = 'ffill')\n",
    "Test_data['Dependents'] = Test_data['Dependents'].fillna(2)\n",
    "Test_data['SE'] = Test_data['SE'].fillna(\"N\") \n",
    "#filling the values "
   ]
  },
  {
   "cell_type": "code",
   "execution_count": 32,
   "metadata": {},
   "outputs": [
    {
     "data": {
      "text/html": [
       "<div>\n",
       "<style scoped>\n",
       "    .dataframe tbody tr th:only-of-type {\n",
       "        vertical-align: middle;\n",
       "    }\n",
       "\n",
       "    .dataframe tbody tr th {\n",
       "        vertical-align: top;\n",
       "    }\n",
       "\n",
       "    .dataframe thead th {\n",
       "        text-align: right;\n",
       "    }\n",
       "</style>\n",
       "<table border=\"1\" class=\"dataframe\">\n",
       "  <thead>\n",
       "    <tr style=\"text-align: right;\">\n",
       "      <th></th>\n",
       "      <th>Dependents</th>\n",
       "      <th>Qual_var</th>\n",
       "      <th>SE</th>\n",
       "      <th>App_Income_1</th>\n",
       "      <th>App_Income_2</th>\n",
       "      <th>Credit_His</th>\n",
       "      <th>Prop_Area</th>\n",
       "      <th>CPL_Amount</th>\n",
       "      <th>CPL_Term</th>\n",
       "    </tr>\n",
       "  </thead>\n",
       "  <tbody>\n",
       "    <tr>\n",
       "      <th>0</th>\n",
       "      <td>0</td>\n",
       "      <td>0</td>\n",
       "      <td>0</td>\n",
       "      <td>6864.0</td>\n",
       "      <td>0.0</td>\n",
       "      <td>1.0</td>\n",
       "      <td>2</td>\n",
       "      <td>132.0</td>\n",
       "      <td>360.0</td>\n",
       "    </tr>\n",
       "    <tr>\n",
       "      <th>1</th>\n",
       "      <td>1</td>\n",
       "      <td>0</td>\n",
       "      <td>0</td>\n",
       "      <td>3691.2</td>\n",
       "      <td>1800.0</td>\n",
       "      <td>1.0</td>\n",
       "      <td>2</td>\n",
       "      <td>151.2</td>\n",
       "      <td>360.0</td>\n",
       "    </tr>\n",
       "    <tr>\n",
       "      <th>2</th>\n",
       "      <td>2</td>\n",
       "      <td>0</td>\n",
       "      <td>0</td>\n",
       "      <td>6000.0</td>\n",
       "      <td>2160.0</td>\n",
       "      <td>1.0</td>\n",
       "      <td>2</td>\n",
       "      <td>249.6</td>\n",
       "      <td>360.0</td>\n",
       "    </tr>\n",
       "    <tr>\n",
       "      <th>3</th>\n",
       "      <td>2</td>\n",
       "      <td>0</td>\n",
       "      <td>0</td>\n",
       "      <td>2808.0</td>\n",
       "      <td>3055.2</td>\n",
       "      <td>0.0</td>\n",
       "      <td>2</td>\n",
       "      <td>120.0</td>\n",
       "      <td>360.0</td>\n",
       "    </tr>\n",
       "    <tr>\n",
       "      <th>4</th>\n",
       "      <td>0</td>\n",
       "      <td>1</td>\n",
       "      <td>0</td>\n",
       "      <td>3931.2</td>\n",
       "      <td>0.0</td>\n",
       "      <td>1.0</td>\n",
       "      <td>2</td>\n",
       "      <td>93.6</td>\n",
       "      <td>360.0</td>\n",
       "    </tr>\n",
       "  </tbody>\n",
       "</table>\n",
       "</div>"
      ],
      "text/plain": [
       "   Dependents  Qual_var  SE  App_Income_1  App_Income_2  Credit_His  \\\n",
       "0           0         0   0        6864.0           0.0         1.0   \n",
       "1           1         0   0        3691.2        1800.0         1.0   \n",
       "2           2         0   0        6000.0        2160.0         1.0   \n",
       "3           2         0   0        2808.0        3055.2         0.0   \n",
       "4           0         1   0        3931.2           0.0         1.0   \n",
       "\n",
       "   Prop_Area  CPL_Amount  CPL_Term  \n",
       "0          2       132.0     360.0  \n",
       "1          2       151.2     360.0  \n",
       "2          2       249.6     360.0  \n",
       "3          2       120.0     360.0  \n",
       "4          2        93.6     360.0  "
      ]
     },
     "execution_count": 32,
     "metadata": {},
     "output_type": "execute_result"
    }
   ],
   "source": [
    "columns =  Test_data[[\"Dependents\",\"Qual_var\",\"SE\",\"Prop_Area\"]]\n",
    "\n",
    "def Cat_conversion(cols):\n",
    "    for i in cols:\n",
    "        Test_data[i]=Test_data[i].astype(\"category\").cat.codes\n",
    "Cat_conversion(columns)\n",
    "Test_data.head()\n",
    "#creating dummy variables "
   ]
  },
  {
   "cell_type": "code",
   "execution_count": 33,
   "metadata": {},
   "outputs": [
    {
     "data": {
      "text/html": [
       "<div>\n",
       "<style scoped>\n",
       "    .dataframe tbody tr th:only-of-type {\n",
       "        vertical-align: middle;\n",
       "    }\n",
       "\n",
       "    .dataframe tbody tr th {\n",
       "        vertical-align: top;\n",
       "    }\n",
       "\n",
       "    .dataframe thead th {\n",
       "        text-align: right;\n",
       "    }\n",
       "</style>\n",
       "<table border=\"1\" class=\"dataframe\">\n",
       "  <thead>\n",
       "    <tr style=\"text-align: right;\">\n",
       "      <th></th>\n",
       "      <th>Dependents</th>\n",
       "      <th>Qual_var</th>\n",
       "      <th>SE</th>\n",
       "      <th>App_Income_1</th>\n",
       "      <th>App_Income_2</th>\n",
       "      <th>Credit_His</th>\n",
       "      <th>Prop_Area</th>\n",
       "      <th>CPL_Amount</th>\n",
       "    </tr>\n",
       "  </thead>\n",
       "  <tbody>\n",
       "    <tr>\n",
       "      <th>0</th>\n",
       "      <td>0</td>\n",
       "      <td>0</td>\n",
       "      <td>0</td>\n",
       "      <td>6864.0</td>\n",
       "      <td>0.0</td>\n",
       "      <td>1.0</td>\n",
       "      <td>2</td>\n",
       "      <td>132.0</td>\n",
       "    </tr>\n",
       "    <tr>\n",
       "      <th>1</th>\n",
       "      <td>1</td>\n",
       "      <td>0</td>\n",
       "      <td>0</td>\n",
       "      <td>3691.2</td>\n",
       "      <td>1800.0</td>\n",
       "      <td>1.0</td>\n",
       "      <td>2</td>\n",
       "      <td>151.2</td>\n",
       "    </tr>\n",
       "    <tr>\n",
       "      <th>2</th>\n",
       "      <td>2</td>\n",
       "      <td>0</td>\n",
       "      <td>0</td>\n",
       "      <td>6000.0</td>\n",
       "      <td>2160.0</td>\n",
       "      <td>1.0</td>\n",
       "      <td>2</td>\n",
       "      <td>249.6</td>\n",
       "    </tr>\n",
       "    <tr>\n",
       "      <th>3</th>\n",
       "      <td>2</td>\n",
       "      <td>0</td>\n",
       "      <td>0</td>\n",
       "      <td>2808.0</td>\n",
       "      <td>3055.2</td>\n",
       "      <td>0.0</td>\n",
       "      <td>2</td>\n",
       "      <td>120.0</td>\n",
       "    </tr>\n",
       "    <tr>\n",
       "      <th>4</th>\n",
       "      <td>0</td>\n",
       "      <td>1</td>\n",
       "      <td>0</td>\n",
       "      <td>3931.2</td>\n",
       "      <td>0.0</td>\n",
       "      <td>1.0</td>\n",
       "      <td>2</td>\n",
       "      <td>93.6</td>\n",
       "    </tr>\n",
       "  </tbody>\n",
       "</table>\n",
       "</div>"
      ],
      "text/plain": [
       "   Dependents  Qual_var  SE  App_Income_1  App_Income_2  Credit_His  \\\n",
       "0           0         0   0        6864.0           0.0         1.0   \n",
       "1           1         0   0        3691.2        1800.0         1.0   \n",
       "2           2         0   0        6000.0        2160.0         1.0   \n",
       "3           2         0   0        2808.0        3055.2         0.0   \n",
       "4           0         1   0        3931.2           0.0         1.0   \n",
       "\n",
       "   Prop_Area  CPL_Amount  \n",
       "0          2       132.0  \n",
       "1          2       151.2  \n",
       "2          2       249.6  \n",
       "3          2       120.0  \n",
       "4          2        93.6  "
      ]
     },
     "execution_count": 33,
     "metadata": {},
     "output_type": "execute_result"
    }
   ],
   "source": [
    "X_test= Test_data[[\"Dependents\",\"Qual_var\",\"SE\",\"App_Income_1\",\"App_Income_2\",\"Credit_His\",\"Prop_Area\",'CPL_Amount']]\n",
    "X_test.head() \n",
    "#input of the values to the best Model "
   ]
  },
  {
   "cell_type": "code",
   "execution_count": 34,
   "metadata": {},
   "outputs": [
    {
     "data": {
      "text/plain": [
       "array([1, 1, 1, 0, 1, 1, 1, 0, 1, 1, 1, 1, 0, 0, 1, 1, 1, 1, 1, 1, 1, 1,\n",
       "       1, 1, 1, 0, 0, 1, 0, 1, 1, 1, 1, 1, 1, 0, 1, 1, 1, 1, 1, 1, 1, 1,\n",
       "       1, 0, 1, 1, 1, 1, 1, 1, 1, 1, 1, 0, 1, 1, 0, 1, 1, 1, 1, 0, 1, 1,\n",
       "       0, 0, 1, 0, 1, 1, 1, 1, 1, 1, 1, 1, 1, 1, 1, 1, 0, 1, 0, 1, 1, 1,\n",
       "       1, 1, 1, 1, 1, 1, 0, 1, 1, 1, 1, 0, 1, 0, 1, 1, 0, 1, 0, 1, 1, 1,\n",
       "       1, 1, 1, 1, 1, 0, 1, 0, 0, 0, 1, 1, 1, 1, 0, 1, 0, 1, 1, 1, 1, 1,\n",
       "       1, 1, 1, 1, 1, 1, 1, 0, 0, 1, 1, 0, 1, 1, 1, 0, 1, 1, 1, 1, 1, 0,\n",
       "       1, 1, 1, 1, 1, 1, 1, 0, 1, 1, 0, 0, 0, 1, 0, 1, 1, 1, 1, 1, 0, 1,\n",
       "       1, 0, 1, 0, 1, 1, 1, 1, 1, 1, 1, 1, 1, 1, 1, 1, 0, 0, 1, 1, 0, 1,\n",
       "       0, 1, 1, 1, 0, 1, 1, 1, 1, 1, 1, 1, 1, 0, 1, 1, 1, 1, 1, 1, 1, 1,\n",
       "       0, 1, 1, 1, 0, 1, 1, 1, 1, 0, 1, 1, 1, 1, 1, 1, 0, 1, 1, 1, 1, 0,\n",
       "       1, 0, 1, 0, 1, 1, 1, 1, 0, 1, 1, 1, 1, 0, 1, 1, 1, 0, 1, 1, 0, 1,\n",
       "       1, 0, 0, 1, 0, 1, 1, 1, 1, 0, 1, 1, 1, 1, 0, 1, 1, 1, 0, 1, 1, 1,\n",
       "       0, 1, 1, 1, 1, 1, 1, 1, 1, 1, 1, 1, 1, 1, 1, 0, 1, 1, 1, 0, 1, 1,\n",
       "       1, 1, 1, 0, 1, 1, 1, 1, 1, 0, 1, 1, 1, 1, 1, 1, 1, 0, 1, 1, 1, 0,\n",
       "       1, 1, 1, 1, 1, 1, 0, 1, 1, 0, 1, 1, 1, 1, 1, 1, 0, 1, 1, 1, 1, 0,\n",
       "       1, 1, 0, 1, 1, 1, 0, 1, 0, 1, 1, 1, 0, 1, 1], dtype=int8)"
      ]
     },
     "execution_count": 34,
     "metadata": {},
     "output_type": "execute_result"
    }
   ],
   "source": [
    "y_pred_gini=rforest_entropy.predict(X_test)\n",
    "y_pred_gini \n",
    "#Finding the decision"
   ]
  },
  {
   "cell_type": "code",
   "execution_count": 35,
   "metadata": {},
   "outputs": [],
   "source": [
    "CC_data_test['Credit_His']=Test_data['Credit_His']\n",
    "CC_data_test['SE']=Test_data['SE']\n",
    "CC_data_test['CPL_Term']=Test_data['CPL_Term']\n",
    "CC_data_test['Dependents']=Test_data['Dependents']\n",
    "CC_data_test[\"CPL_Status\"] = y_pred_gini \n",
    "#concading of the corrected data in to intial file "
   ]
  },
  {
   "cell_type": "code",
   "execution_count": 36,
   "metadata": {},
   "outputs": [],
   "source": [
    "#converting of dummies to Y or N\n",
    "CC_data_test[\"CPL_Status\"] = [\"Y\" if CC_data_test.loc[ei, \"CPL_Status\"]>0 else \"N\" for ei in CC_data_test.index]"
   ]
  },
  {
   "cell_type": "code",
   "execution_count": 37,
   "metadata": {},
   "outputs": [],
   "source": [
    "#exporting of the final data to the xlsx file \n",
    "CC_data_test.to_excel(\"Project - 4 - Test Data_submission.xlsx\", index=0)"
   ]
  },
  {
   "cell_type": "markdown",
   "metadata": {},
   "source": [
    "# THE END "
   ]
  }
 ],
 "metadata": {
  "kernelspec": {
   "display_name": "Python 3",
   "language": "python",
   "name": "python3"
  },
  "language_info": {
   "codemirror_mode": {
    "name": "ipython",
    "version": 3
   },
   "file_extension": ".py",
   "mimetype": "text/x-python",
   "name": "python",
   "nbconvert_exporter": "python",
   "pygments_lexer": "ipython3",
   "version": "3.7.6"
  }
 },
 "nbformat": 4,
 "nbformat_minor": 4
}
